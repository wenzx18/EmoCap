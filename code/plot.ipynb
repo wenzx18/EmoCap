{
 "cells": [
  {
   "cell_type": "code",
   "execution_count": 1,
   "metadata": {},
   "outputs": [
    {
     "name": "stderr",
     "output_type": "stream",
     "text": [
      "No handles with labels found to put in legend.\n"
     ]
    },
    {
     "data": {
      "text/plain": [
       "\"\\nacc = result['Accuracy']\\n\\nplt.figure(1)\\nplt.plot(epoch,acc)\\nplt.legend()\\nplt.xlabel(u'epoch')\\nplt.ylabel(u'accuracy/%')\\nplt.title('train accuracy')\\nplt.savefig(model_path + 'accuracy.png')\\n\""
      ]
     },
     "execution_count": 1,
     "metadata": {},
     "output_type": "execute_result"
    },
    {
     "data": {
      "image/png": "[encoded data removed]",
      "text/plain": [
       "<Figure size 432x288 with 1 Axes>"
      ]
     },
     "metadata": {
      "needs_background": "light"
     },
     "output_type": "display_data"
    }
   ],
   "source": [
    "import json\n",
    "import matplotlib.pyplot as plt\n",
    "\n",
    "model_old_path = 'models/'  #旧数据集\n",
    "model_epoch15_path = 'models_epoch15/'  #新数据集\n",
    "model_pad_path = 'models_pad/'\n",
    "model_NIC_path = 'models_NIC/'\n",
    "model_coco_path = 'models_coco/'\n",
    "model_path = model_coco_path\n",
    "result_path =  model_path + 'result_data.json'\n",
    "result = json.load(open(result_path,'r'))\n",
    "epoch = result['Epoch']\n",
    "loss = result['Loss']\n",
    "\n",
    "plt.figure(0)\n",
    "plt.plot(epoch,loss)\n",
    "plt.legend()\n",
    "plt.xlabel(u'epoch')\n",
    "plt.ylabel(u'loss')\n",
    "plt.title('train loss')\n",
    "plt.savefig(model_path + 'loss.png')\n",
    "\n",
    "# seq_to_txt_state_10.tar loss最小\n",
    "# txt_to_emo_state_10.tar loss最小\n",
    "'''\n",
    "acc = result['Accuracy']\n",
    "\n",
    "plt.figure(1)\n",
    "plt.plot(epoch,acc)\n",
    "plt.legend()\n",
    "plt.xlabel(u'epoch')\n",
    "plt.ylabel(u'accuracy/%')\n",
    "plt.title('train accuracy')\n",
    "plt.savefig(model_path + 'accuracy.png')\n",
    "'''"
   ]
  }
 ],
 "metadata": {
  "interpreter": {
   "hash": "83831e47d55ca3e287e497c9db38557f06271bed6d563fb117a6c59cf4cb4012"
  },
  "kernelspec": {
   "display_name": "Python 3.8.12 ('torch10.1')",
   "language": "python",
   "name": "python3"
  },
  "language_info": {
   "codemirror_mode": {
    "name": "ipython",
    "version": 3
   },
   "file_extension": ".py",
   "mimetype": "text/x-python",
   "name": "python",
   "nbconvert_exporter": "python",
   "pygments_lexer": "ipython3",
   "version": "3.8.12"
  },
  "orig_nbformat": 4
 },
 "nbformat": 4,
 "nbformat_minor": 2
}
